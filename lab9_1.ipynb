{
  "nbformat": 4,
  "nbformat_minor": 0,
  "metadata": {
    "colab": {
      "provenance": [],
      "authorship_tag": "ABX9TyNF+axTmpxnMsWz9xJd2ZD1",
      "include_colab_link": true
    },
    "kernelspec": {
      "name": "python3",
      "display_name": "Python 3"
    },
    "language_info": {
      "name": "python"
    }
  },
  "cells": [
    {
      "cell_type": "markdown",
      "metadata": {
        "id": "view-in-github",
        "colab_type": "text"
      },
      "source": [
        "<a href=\"https://colab.research.google.com/github/mukthar56788/Human-Body-Measurements-using-Computer-Vision/blob/master/lab9_1.ipynb\" target=\"_parent\"><img src=\"https://colab.research.google.com/assets/colab-badge.svg\" alt=\"Open In Colab\"/></a>"
      ]
    },
    {
      "cell_type": "code",
      "execution_count": 1,
      "metadata": {
        "colab": {
          "base_uri": "https://localhost:8080/"
        },
        "id": "lLTPzvsQrCmg",
        "outputId": "d971b6cb-b7e8-4a2c-ce75-9daf71a247c3"
      },
      "outputs": [
        {
          "output_type": "stream",
          "name": "stdout",
          "text": [
            "Downloading https://www.cs.toronto.edu/~kriz/cifar-10-python.tar.gz to ./data/cifar-10-python.tar.gz\n"
          ]
        },
        {
          "output_type": "stream",
          "name": "stderr",
          "text": [
            "100%|██████████| 170M/170M [00:01<00:00, 90.7MB/s]\n"
          ]
        },
        {
          "output_type": "stream",
          "name": "stdout",
          "text": [
            "Extracting ./data/cifar-10-python.tar.gz to ./data\n",
            "Files already downloaded and verified\n",
            "KNN Accuracy: 33.98%\n",
            "Files already downloaded and verified\n",
            "Files already downloaded and verified\n",
            "Epoch [1/10], Loss: 1.6321\n",
            "Epoch [2/10], Loss: 1.4234\n",
            "Epoch [3/10], Loss: 1.3112\n",
            "Epoch [4/10], Loss: 1.2178\n",
            "Epoch [5/10], Loss: 1.1361\n",
            "Epoch [6/10], Loss: 1.0597\n",
            "Epoch [7/10], Loss: 0.9828\n",
            "Epoch [8/10], Loss: 0.9098\n",
            "Epoch [9/10], Loss: 0.8407\n",
            "Epoch [10/10], Loss: 0.7673\n",
            "Neural Network Accuracy: 53.23%\n"
          ]
        }
      ],
      "source": [
        "import numpy as np\n",
        "from sklearn.neighbors import KNeighborsClassifier\n",
        "import torch\n",
        "import torch.nn as nn\n",
        "import torch.optim as optim\n",
        "from torchvision import datasets, transforms\n",
        "from torch.utils.data import DataLoader\n",
        "\n",
        "# Load CIFAR-10 Dataset\n",
        "def load_cifar10():\n",
        "    transform = transforms.Compose([\n",
        "        transforms.ToTensor(),\n",
        "        transforms.Normalize((0.5, 0.5, 0.5), (0.5, 0.5, 0.5))\n",
        "    ])\n",
        "    train_data = datasets.CIFAR10(root=\"./data\", train=True, download=True, transform=transform)\n",
        "    test_data = datasets.CIFAR10(root=\"./data\", train=False, download=True, transform=transform)\n",
        "\n",
        "    train_loader = DataLoader(train_data, batch_size=len(train_data))\n",
        "    test_loader = DataLoader(test_data, batch_size=len(test_data))\n",
        "\n",
        "    X_train, y_train = next(iter(train_loader))\n",
        "    X_test, y_test = next(iter(test_loader))\n",
        "\n",
        "    X_train = X_train.view(X_train.size(0), -1).numpy()\n",
        "    X_test = X_test.view(X_test.size(0), -1).numpy()\n",
        "\n",
        "    y_train = y_train.numpy()\n",
        "    y_test = y_test.numpy()\n",
        "\n",
        "    return X_train, y_train, X_test, y_test\n",
        "\n",
        "# (i) KNN Classifier\n",
        "def knn_classifier(X_train, y_train, X_test, y_test, k=5):\n",
        "    knn = KNeighborsClassifier(n_neighbors=k)\n",
        "    knn.fit(X_train, y_train)\n",
        "    accuracy = knn.score(X_test, y_test)\n",
        "    print(f\"KNN Accuracy: {accuracy * 100:.2f}%\")\n",
        "\n",
        "# (ii) 3-Layer Neural Network\n",
        "class NeuralNetwork(nn.Module):\n",
        "    def __init__(self):\n",
        "        super(NeuralNetwork, self).__init__()\n",
        "        self.fc1 = nn.Linear(32 * 32 * 3, 512)\n",
        "        self.relu1 = nn.ReLU()\n",
        "        self.fc2 = nn.Linear(512, 256)\n",
        "        self.relu2 = nn.ReLU()\n",
        "        self.fc3 = nn.Linear(256, 10)\n",
        "\n",
        "    def forward(self, x):\n",
        "        x = self.fc1(x)\n",
        "        x = self.relu1(x)\n",
        "        x = self.fc2(x)\n",
        "        x = self.relu2(x)\n",
        "        x = self.fc3(x)\n",
        "        return x\n",
        "\n",
        "def train_nn(model, train_loader, test_loader, epochs=10, learning_rate=0.001):\n",
        "    criterion = nn.CrossEntropyLoss()\n",
        "    optimizer = optim.Adam(model.parameters(), lr=learning_rate)\n",
        "\n",
        "    for epoch in range(epochs):\n",
        "        model.train()\n",
        "        total_loss = 0\n",
        "        for images, labels in train_loader:\n",
        "            images = images.view(images.size(0), -1)\n",
        "            outputs = model(images)\n",
        "            loss = criterion(outputs, labels)\n",
        "\n",
        "            optimizer.zero_grad()\n",
        "            loss.backward()\n",
        "            optimizer.step()\n",
        "\n",
        "            total_loss += loss.item()\n",
        "\n",
        "        print(f\"Epoch [{epoch + 1}/{epochs}], Loss: {total_loss / len(train_loader):.4f}\")\n",
        "\n",
        "    # Evaluate the model\n",
        "    model.eval()\n",
        "    correct = 0\n",
        "    total = 0\n",
        "    with torch.no_grad():\n",
        "        for images, labels in test_loader:\n",
        "            images = images.view(images.size(0), -1)\n",
        "            outputs = model(images)\n",
        "            _, predicted = torch.max(outputs.data, 1)\n",
        "            total += labels.size(0)\n",
        "            correct += (predicted == labels).sum().item()\n",
        "\n",
        "    print(f\"Neural Network Accuracy: {100 * correct / total:.2f}%\")\n",
        "\n",
        "if __name__ == \"__main__\":\n",
        "    # Load CIFAR-10 dataset\n",
        "    X_train, y_train, X_test, y_test = load_cifar10()\n",
        "\n",
        "    # (i) KNN Classifier\n",
        "    knn_classifier(X_train, y_train, X_test, y_test, k=5)\n",
        "\n",
        "    # (ii) 3-Layer Neural Network\n",
        "    transform = transforms.Compose([\n",
        "        transforms.ToTensor(),\n",
        "        transforms.Normalize((0.5, 0.5, 0.5), (0.5, 0.5, 0.5))\n",
        "    ])\n",
        "    train_data = datasets.CIFAR10(root=\"./data\", train=True, download=True, transform=transform)\n",
        "    test_data = datasets.CIFAR10(root=\"./data\", train=False, download=True, transform=transform)\n",
        "\n",
        "    train_loader = DataLoader(train_data, batch_size=64, shuffle=True)\n",
        "    test_loader = DataLoader(test_data, batch_size=64, shuffle=False)\n",
        "\n",
        "    model = NeuralNetwork()\n",
        "    train_nn(model, train_loader, test_loader, epochs=10, learning_rate=0.001)\n"
      ]
    }
  ]
}